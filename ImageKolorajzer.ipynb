{
  "nbformat": 4,
  "nbformat_minor": 0,
  "metadata": {
    "colab": {
      "name": "ImageKolorajzer.ipynb",
      "provenance": [],
      "toc_visible": true,
      "authorship_tag": "ABX9TyMtAYnSofMUtvURUH/7r+WE",
      "include_colab_link": true
    },
    "kernelspec": {
      "name": "python3",
      "display_name": "Python 3"
    },
    "language_info": {
      "name": "python"
    }
  },
  "cells": [
    {
      "cell_type": "markdown",
      "metadata": {
        "id": "view-in-github",
        "colab_type": "text"
      },
      "source": [
        "<a href=\"https://colab.research.google.com/github/KorneliuszDyszczynski/ColorizingPhotosNeuralNetwork/blob/PlanB/ImageKolorajzer.ipynb\" target=\"_parent\"><img src=\"https://colab.research.google.com/assets/colab-badge.svg\" alt=\"Open In Colab\"/></a>"
      ]
    },
    {
      "cell_type": "code",
      "metadata": {
        "colab": {
          "base_uri": "https://localhost:8080/"
        },
        "id": "huJC2Fi12h4F",
        "outputId": "826b71e5-fda1-4a9d-8189-1342fd751aed"
      },
      "source": [
        "!git clone https://github.com/richzhang/colorization.git"
      ],
      "execution_count": null,
      "outputs": [
        {
          "output_type": "stream",
          "text": [
            "Cloning into 'colorization'...\n",
            "remote: Enumerating objects: 4873, done.\u001b[K\n",
            "remote: Counting objects: 100% (61/61), done.\u001b[K\n",
            "remote: Compressing objects: 100% (47/47), done.\u001b[K\n",
            "remote: Total 4873 (delta 24), reused 43 (delta 13), pack-reused 4812\u001b[K\n",
            "Receiving objects: 100% (4873/4873), 178.34 MiB | 34.09 MiB/s, done.\n",
            "Resolving deltas: 100% (409/409), done.\n"
          ],
          "name": "stdout"
        }
      ]
    },
    {
      "cell_type": "code",
      "metadata": {
        "colab": {
          "base_uri": "https://localhost:8080/"
        },
        "id": "QmRbL5vW2qiH",
        "outputId": "f6bb3a58-a38d-4242-c66a-f98f12c98bb6"
      },
      "source": [
        "!python colorization/demo_release.py -i colorization/imgs/grzesiekbw.jpg"
      ],
      "execution_count": null,
      "outputs": [
        {
          "output_type": "stream",
          "text": [
            "/usr/local/lib/python3.7/dist-packages/torch/nn/functional.py:3458: UserWarning: Default upsampling behavior when mode=bilinear is changed to align_corners=False since 0.4.0. Please specify align_corners=True if the old behavior is desired. See the documentation of nn.Upsample for details.\n",
            "  \"See the documentation of nn.Upsample for details.\".format(mode)\n",
            "<Figure size 1200x800 with 4 Axes>\n"
          ],
          "name": "stdout"
        }
      ]
    }
  ]
}