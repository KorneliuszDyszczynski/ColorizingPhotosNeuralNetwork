{
  "nbformat": 4,
  "nbformat_minor": 0,
  "metadata": {
    "colab": {
      "name": "Untitled0.ipynb",
      "provenance": [],
      "include_colab_link": true
    },
    "kernelspec": {
      "name": "python3",
      "display_name": "Python 3"
    },
    "language_info": {
      "name": "python"
    }
  },
  "cells": [
    {
      "cell_type": "markdown",
      "metadata": {
        "id": "view-in-github",
        "colab_type": "text"
      },
      "source": [
        "<a href=\"https://colab.research.google.com/github/KorneliuszDyszczynski/ColorizingPhotosNeuralNetwork/blob/master/ColorizingImages.ipynb\" target=\"_parent\"><img src=\"https://colab.research.google.com/assets/colab-badge.svg\" alt=\"Open In Colab\"/></a>"
      ]
    },
    {
      "cell_type": "code",
      "metadata": {
        "id": "UIJojRPmeMsz",
        "colab": {
          "base_uri": "https://localhost:8080/"
        },
        "outputId": "c1bc27ad-4134-46f3-fdfb-6114a314b8ef"
      },
      "source": [
        "import keras\n",
        "import numpy as np\n",
        "\n",
        "def main():\n",
        "  #image = img_to_array(load_img('woman.png'))\n",
        "  #image = np.array(image, dtype=float)\n",
        "  print(\"output\")\n",
        "\n",
        "\n",
        "if __name__ == \"__main__\":\n",
        "  main()\n",
        "\n"
      ],
      "execution_count": null,
      "outputs": [
        {
          "output_type": "stream",
          "text": [
            "siema\n"
          ],
          "name": "stdout"
        }
      ]
    }
  ]
}