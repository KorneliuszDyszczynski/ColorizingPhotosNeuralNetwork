{
  "nbformat": 4,
  "nbformat_minor": 0,
  "metadata": {
    "colab": {
      "name": "KolorajzerV2.ipynb",
      "provenance": [],
      "authorship_tag": "ABX9TyO8fVXvmqXaYsl1pMhrQGQE",
      "include_colab_link": true
    },
    "kernelspec": {
      "name": "python3",
      "display_name": "Python 3"
    },
    "language_info": {
      "name": "python"
    },
    "accelerator": "GPU"
  },
  "cells": [
    {
      "cell_type": "markdown",
      "metadata": {
        "id": "view-in-github",
        "colab_type": "text"
      },
      "source": [
        "<a href=\"https://colab.research.google.com/github/KorneliuszDyszczynski/ColorizingPhotosNeuralNetwork/blob/PlanA/KolorajzerV2.ipynb\" target=\"_parent\"><img src=\"https://colab.research.google.com/assets/colab-badge.svg\" alt=\"Open In Colab\"/></a>"
      ]
    },
    {
      "cell_type": "code",
      "metadata": {
        "id": "uJLYN8DJNt3f"
      },
      "source": [
        "!mkdir ~/.kaggle\n",
        "!cp kaggle.json ~/.kaggle\n",
        "!chmod 600 ~/.kaggle/kaggle.json\n",
        "from kaggle.api.kaggle_api_extended import KaggleApi\n",
        "api = KaggleApi()\n",
        "api.authenticate()\n",
        "api.dataset_download_files('theblackmamba31/landscape-image-colorization')"
      ],
      "execution_count": 12,
      "outputs": []
    },
    {
      "cell_type": "code",
      "metadata": {
        "id": "hJP0YMo_OPKM"
      },
      "source": [
        "!unzip landscape-image-colorization.zip"
      ],
      "execution_count": null,
      "outputs": []
    },
    {
      "cell_type": "code",
      "metadata": {
        "id": "pFbTc4BNOtvJ"
      },
      "source": [
        "!mv landscape\\ Images/color data"
      ],
      "execution_count": 14,
      "outputs": []
    },
    {
      "cell_type": "code",
      "metadata": {
        "id": "zS9xmEWu74Lp"
      },
      "source": [
        "import keras\n",
        "from keras.preprocessing import image\n",
        "from keras.engine import Layer\n",
        "from keras.layers import Conv2D, Conv3D, UpSampling2D, InputLayer, Conv2DTranspose, Input, Reshape, merge, concatenate\n",
        "from keras.layers import Activation, Dense, Dropout, Flatten\n",
        "from keras.layers.normalization import BatchNormalization\n",
        "from keras.callbacks import TensorBoard\n",
        "from keras.models import Sequential, Model\n",
        "from keras.preprocessing.image import ImageDataGenerator, array_to_img, img_to_array, load_img\n",
        "from skimage.color import rgb2lab, lab2rgb, rgb2gray, gray2rgb\n",
        "from skimage.transform import resize\n",
        "from skimage.io import imsave\n",
        "from time import time\n",
        "import numpy as np\n",
        "import os\n",
        "import random\n",
        "import tensorflow as tf\n",
        "from PIL import Image, ImageFile"
      ],
      "execution_count": 16,
      "outputs": []
    },
    {
      "cell_type": "code",
      "metadata": {
        "id": "gAcAIobI8Dow"
      },
      "source": [
        "path = '//content/data/'\n",
        "train_datagen = ImageDataGenerator(rescale=1. / 255)"
      ],
      "execution_count": 17,
      "outputs": []
    },
    {
      "cell_type": "code",
      "metadata": {
        "colab": {
          "base_uri": "https://localhost:8080/"
        },
        "id": "LK2ApT8__DXq",
        "outputId": "145d78e9-3022-4207-cec3-efbac381e621"
      },
      "source": [
        "train = train_datagen.flow_from_directory(path, target_size=(256, 256),batch_size=700,class_mode=None)\n",
        "X =[]\n",
        "Y =[]\n",
        "for img in train[0]:\n",
        "  try:\n",
        "      lab = rgb2lab(img)\n",
        "      X.append(lab[:,:,0])\n",
        "      Y.append(lab[:,:,1:] / 128)\n",
        "  except:\n",
        "     print('error')\n",
        "X = np.array(X)\n",
        "Y = np.array(Y)\n",
        "X = X.reshape(X.shape+(1,))\n",
        "print(X.shape)\n",
        "print(Y.shape)"
      ],
      "execution_count": 18,
      "outputs": [
        {
          "output_type": "stream",
          "text": [
            "Found 7129 images belonging to 2 classes.\n",
            "(700, 256, 256, 1)\n",
            "(700, 256, 256, 2)\n"
          ],
          "name": "stdout"
        }
      ]
    },
    {
      "cell_type": "code",
      "metadata": {
        "id": "AqHpELoE8ov6"
      },
      "source": [
        "#Encoder\n",
        "encoder_input = Input(shape=(256, 256, 1,))\n",
        "encoder_output = Conv2D(64, (3,3), activation='relu', padding='same', strides=2)(encoder_input)\n",
        "encoder_output = Conv2D(128, (3,3), activation='relu', padding='same')(encoder_output)\n",
        "encoder_output = Conv2D(128, (3,3), activation='relu', padding='same', strides=2)(encoder_output)\n",
        "encoder_output = Conv2D(256, (3,3), activation='relu', padding='same')(encoder_output)\n",
        "encoder_output = Conv2D(256, (3,3), activation='relu', padding='same', strides=2)(encoder_output)\n",
        "encoder_output = Conv2D(512, (3,3), activation='relu', padding='same')(encoder_output)\n",
        "encoder_output = Conv2D(512, (3,3), activation='relu', padding='same')(encoder_output)\n",
        "encoder_output = Conv2D(256, (3,3), activation='relu', padding='same')(encoder_output)\n",
        "#Decoder\n",
        "decoder_output = Conv2D(128, (3,3), activation='relu', padding='same')(encoder_output)\n",
        "decoder_output = UpSampling2D((2, 2))(decoder_output)\n",
        "decoder_output = Conv2D(64, (3,3), activation='relu', padding='same')(decoder_output)\n",
        "decoder_output = UpSampling2D((2, 2))(decoder_output)\n",
        "decoder_output = Conv2D(32, (3,3), activation='relu', padding='same')(decoder_output)\n",
        "decoder_output = Conv2D(16, (3,3), activation='relu', padding='same')(decoder_output)\n",
        "decoder_output = Conv2D(2, (3, 3), activation='tanh', padding='same')(decoder_output)\n",
        "decoder_output = UpSampling2D((2, 2))(decoder_output)\n",
        "model = Model(inputs=encoder_input, outputs=decoder_output)"
      ],
      "execution_count": 19,
      "outputs": []
    },
    {
      "cell_type": "code",
      "metadata": {
        "colab": {
          "base_uri": "https://localhost:8080/"
        },
        "id": "DzoF332r8rOj",
        "outputId": "1e546eb8-3813-402b-b2c4-864b50b89cb2"
      },
      "source": [
        "model.compile(optimizer='adam', loss='mse' , metrics=['accuracy'])\n",
        "model.fit(X,Y,validation_split=0.2, epochs=10, verbose=1 )"
      ],
      "execution_count": 21,
      "outputs": [
        {
          "output_type": "stream",
          "text": [
            "Epoch 1/10\n",
            "18/18 [==============================] - 14s 704ms/step - loss: 0.0141 - accuracy: 0.5575 - val_loss: 0.0156 - val_accuracy: 0.6049\n",
            "Epoch 2/10\n",
            "18/18 [==============================] - 12s 691ms/step - loss: 0.0145 - accuracy: 0.5657 - val_loss: 0.0124 - val_accuracy: 0.5207\n",
            "Epoch 3/10\n",
            "18/18 [==============================] - 12s 693ms/step - loss: 0.0154 - accuracy: 0.6228 - val_loss: 0.0112 - val_accuracy: 0.6244\n",
            "Epoch 4/10\n",
            "18/18 [==============================] - 12s 691ms/step - loss: 0.0144 - accuracy: 0.6181 - val_loss: 0.0113 - val_accuracy: 0.6226\n",
            "Epoch 5/10\n",
            "18/18 [==============================] - 12s 692ms/step - loss: 0.0126 - accuracy: 0.6626 - val_loss: 0.0109 - val_accuracy: 0.6345\n",
            "Epoch 6/10\n",
            "18/18 [==============================] - 12s 693ms/step - loss: 0.0125 - accuracy: 0.6700 - val_loss: 0.0107 - val_accuracy: 0.6374\n",
            "Epoch 7/10\n",
            "18/18 [==============================] - 12s 691ms/step - loss: 0.0104 - accuracy: 0.6710 - val_loss: 0.0112 - val_accuracy: 0.6404\n",
            "Epoch 8/10\n",
            "18/18 [==============================] - 12s 692ms/step - loss: 0.0109 - accuracy: 0.6876 - val_loss: 0.0103 - val_accuracy: 0.6425\n",
            "Epoch 9/10\n",
            "18/18 [==============================] - 12s 692ms/step - loss: 0.0119 - accuracy: 0.6664 - val_loss: 0.0103 - val_accuracy: 0.6425\n",
            "Epoch 10/10\n",
            "18/18 [==============================] - 12s 692ms/step - loss: 0.0113 - accuracy: 0.6891 - val_loss: 0.0100 - val_accuracy: 0.6440\n"
          ],
          "name": "stdout"
        },
        {
          "output_type": "execute_result",
          "data": {
            "text/plain": [
              "<tensorflow.python.keras.callbacks.History at 0x7f8679f40d90>"
            ]
          },
          "metadata": {
            "tags": []
          },
          "execution_count": 21
        }
      ]
    },
    {
      "cell_type": "code",
      "metadata": {
        "id": "hHXUCjJpG-qS"
      },
      "source": [
        "!rm -r //content/test/.ipynb_checkpoints"
      ],
      "execution_count": 45,
      "outputs": []
    },
    {
      "cell_type": "code",
      "metadata": {
        "colab": {
          "base_uri": "https://localhost:8080/"
        },
        "id": "I1WB_8rX8uBO",
        "outputId": "b81b4767-ded0-4da2-dbe4-bd63158dae6c"
      },
      "source": [
        "test_path = '//content/test/'\n",
        "test = os.listdir(test_path)\n",
        "for imgName in test:\n",
        "  color_me = []\n",
        "  img = img_to_array(load_img(test_path + imgName))\n",
        "  img = resize(img ,(256,256))\n",
        "  color_me.append(img)\n",
        "color_me = np.array(color_me, dtype=float)\n",
        "color_me = rgb2lab(1.0/255*color_me)[:,:,:,0]\n",
        "color_me = color_me.reshape(color_me.shape+(1,))\n",
        "print(color_me.shape)"
      ],
      "execution_count": 46,
      "outputs": [
        {
          "output_type": "stream",
          "text": [
            "(1, 256, 256, 1)\n"
          ],
          "name": "stdout"
        }
      ]
    },
    {
      "cell_type": "code",
      "metadata": {
        "id": "00JEogydAo24"
      },
      "source": [
        "output = model.predict(color_me)\n",
        "output = output * 128"
      ],
      "execution_count": 47,
      "outputs": []
    },
    {
      "cell_type": "code",
      "metadata": {
        "colab": {
          "base_uri": "https://localhost:8080/"
        },
        "id": "l7I5AC9jArGW",
        "outputId": "d2ca2aa2-054e-45bd-851e-01f0fa3f4587"
      },
      "source": [
        "# Output colorizations\n",
        "for i in range(len(output)):\n",
        "    result = np.zeros((256, 256, 3))\n",
        "    result[:,:,0] = color_me[i][:,:,0]\n",
        "    result[:,:,1:] = output[i]\n",
        "    imsave(\"result\"+str(i)+\".png\", lab2rgb(result))"
      ],
      "execution_count": 48,
      "outputs": [
        {
          "output_type": "stream",
          "text": [
            "WARNING:root:Lossy conversion from float64 to uint8. Range [0, 1]. Convert image to uint8 prior to saving to suppress this warning.\n"
          ],
          "name": "stderr"
        }
      ]
    }
  ]
}